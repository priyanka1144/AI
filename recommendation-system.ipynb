{
 "cells": [
  {
   "cell_type": "code",
   "execution_count": 1,
   "id": "0427eeb9",
   "metadata": {
    "_cell_guid": "b1076dfc-b9ad-4769-8c92-a6c4dae69d19",
    "_uuid": "8f2839f25d086af736a60e9eeb907d3b93b6e0e5",
    "execution": {
     "iopub.execute_input": "2025-03-05T11:56:04.674563Z",
     "iopub.status.busy": "2025-03-05T11:56:04.674114Z",
     "iopub.status.idle": "2025-03-05T11:56:07.260860Z",
     "shell.execute_reply": "2025-03-05T11:56:07.259962Z"
    },
    "papermill": {
     "duration": 2.598241,
     "end_time": "2025-03-05T11:56:07.262818",
     "exception": false,
     "start_time": "2025-03-05T11:56:04.664577",
     "status": "completed"
    },
    "tags": []
   },
   "outputs": [],
   "source": [
    "# Import necessary libraries\n",
    "import pandas as pd\n",
    "import numpy as np\n",
    "from sklearn.feature_extraction.text import TfidfVectorizer\n",
    "from sklearn.metrics.pairwise import cosine_similarity\n",
    "from surprise import Dataset, Reader, SVD\n",
    "from surprise.model_selection import train_test_split\n",
    "from surprise import accuracy\n",
    "import matplotlib.pyplot as plt\n",
    "import warnings\n",
    "\n",
    "warnings.filterwarnings(\"ignore\")"
   ]
  },
  {
   "cell_type": "markdown",
   "id": "1009382c",
   "metadata": {
    "papermill": {
     "duration": 0.007297,
     "end_time": "2025-03-05T11:56:07.278222",
     "exception": false,
     "start_time": "2025-03-05T11:56:07.270925",
     "status": "completed"
    },
    "tags": []
   },
   "source": [
    "# Step 1: Define Hardcoded Movie Data\n",
    "# Create a list of movies with their details"
   ]
  },
  {
   "cell_type": "code",
   "execution_count": 2,
   "id": "be1c5c54",
   "metadata": {
    "execution": {
     "iopub.execute_input": "2025-03-05T11:56:07.294835Z",
     "iopub.status.busy": "2025-03-05T11:56:07.294198Z",
     "iopub.status.idle": "2025-03-05T11:56:07.300990Z",
     "shell.execute_reply": "2025-03-05T11:56:07.299918Z"
    },
    "papermill": {
     "duration": 0.016925,
     "end_time": "2025-03-05T11:56:07.302582",
     "exception": false,
     "start_time": "2025-03-05T11:56:07.285657",
     "status": "completed"
    },
    "tags": []
   },
   "outputs": [],
   "source": [
    "movies_data = [\n",
    "    {\"movieId\": \"Movie_1\", \"title\": \"The Shawshank Redemption\", \"genres\": \"Drama\"},\n",
    "    {\"movieId\": \"Movie_2\", \"title\": \"The Godfather\", \"genres\": \"Crime|Drama\"},\n",
    "    {\"movieId\": \"Movie_3\", \"title\": \"The Dark Knight\", \"genres\": \"Action|Adventure\"},\n",
    "    {\"movieId\": \"Movie_4\", \"title\": \"Pulp Fiction\", \"genres\": \"Crime|Drama\"},\n",
    "    {\"movieId\": \"Movie_5\", \"title\": \"Forrest Gump\", \"genres\": \"Drama|Romance\"},\n",
    "    {\"movieId\": \"Movie_6\", \"title\": \"Inception\", \"genres\": \"Action|Sci-Fi\"},\n",
    "    {\"movieId\": \"Movie_7\", \"title\": \"The Matrix\", \"genres\": \"Action|Sci-Fi\"},\n",
    "    {\"movieId\": \"Movie_8\", \"title\": \"Titanic\", \"genres\": \"Drama|Romance\"},\n",
    "    {\"movieId\": \"Movie_9\", \"title\": \"Avatar\", \"genres\": \"Action|Adventure|Fantasy\"},\n",
    "    {\"movieId\": \"Movie_10\", \"title\": \"Gladiator\", \"genres\": \"Action|Adventure|Drama\"},\n",
    "    {\"movieId\": \"Movie_11\", \"title\": \"Jurassic Park\", \"genres\": \"Action|Adventure|Sci-Fi\"},\n",
    "    {\"movieId\": \"Movie_12\", \"title\": \"Star Wars\", \"genres\": \"Action|Adventure|Sci-Fi\"},\n",
    "    {\"movieId\": \"Movie_13\", \"title\": \"The Lion King\", \"genres\": \"Animation|Adventure|Drama\"},\n",
    "    {\"movieId\": \"Movie_14\", \"title\": \"Toy Story\", \"genres\": \"Animation|Comedy|Family\"},\n",
    "    {\"movieId\": \"Movie_15\", \"title\": \"Finding Nemo\", \"genres\": \"Animation|Adventure|Comedy\"},\n",
    "]"
   ]
  },
  {
   "cell_type": "markdown",
   "id": "688bf001",
   "metadata": {
    "papermill": {
     "duration": 0.007098,
     "end_time": "2025-03-05T11:56:07.317317",
     "exception": false,
     "start_time": "2025-03-05T11:56:07.310219",
     "status": "completed"
    },
    "tags": []
   },
   "source": [
    "# Convert the list of movies into a DataFrame"
   ]
  },
  {
   "cell_type": "code",
   "execution_count": 3,
   "id": "a76b0898",
   "metadata": {
    "execution": {
     "iopub.execute_input": "2025-03-05T11:56:07.333203Z",
     "iopub.status.busy": "2025-03-05T11:56:07.332822Z",
     "iopub.status.idle": "2025-03-05T11:56:07.339752Z",
     "shell.execute_reply": "2025-03-05T11:56:07.338847Z"
    },
    "papermill": {
     "duration": 0.016765,
     "end_time": "2025-03-05T11:56:07.341347",
     "exception": false,
     "start_time": "2025-03-05T11:56:07.324582",
     "status": "completed"
    },
    "tags": []
   },
   "outputs": [],
   "source": [
    "movies = pd.DataFrame(movies_data)"
   ]
  },
  {
   "cell_type": "markdown",
   "id": "4d478b08",
   "metadata": {
    "papermill": {
     "duration": 0.007166,
     "end_time": "2025-03-05T11:56:07.356093",
     "exception": false,
     "start_time": "2025-03-05T11:56:07.348927",
     "status": "completed"
    },
    "tags": []
   },
   "source": [
    "# Create synthetic ratings data for users"
   ]
  },
  {
   "cell_type": "code",
   "execution_count": 4,
   "id": "85b65c93",
   "metadata": {
    "execution": {
     "iopub.execute_input": "2025-03-05T11:56:07.372123Z",
     "iopub.status.busy": "2025-03-05T11:56:07.371742Z",
     "iopub.status.idle": "2025-03-05T11:56:07.375901Z",
     "shell.execute_reply": "2025-03-05T11:56:07.374939Z"
    },
    "papermill": {
     "duration": 0.014212,
     "end_time": "2025-03-05T11:56:07.377534",
     "exception": false,
     "start_time": "2025-03-05T11:56:07.363322",
     "status": "completed"
    },
    "tags": []
   },
   "outputs": [],
   "source": [
    "np.random.seed(42)"
   ]
  },
  {
   "cell_type": "markdown",
   "id": "078b0350",
   "metadata": {
    "papermill": {
     "duration": 0.007161,
     "end_time": "2025-03-05T11:56:07.392002",
     "exception": false,
     "start_time": "2025-03-05T11:56:07.384841",
     "status": "completed"
    },
    "tags": []
   },
   "source": [
    "# Synthetic user IDs"
   ]
  },
  {
   "cell_type": "code",
   "execution_count": 5,
   "id": "d65e5f81",
   "metadata": {
    "execution": {
     "iopub.execute_input": "2025-03-05T11:56:07.407901Z",
     "iopub.status.busy": "2025-03-05T11:56:07.407512Z",
     "iopub.status.idle": "2025-03-05T11:56:07.412216Z",
     "shell.execute_reply": "2025-03-05T11:56:07.410976Z"
    },
    "papermill": {
     "duration": 0.014627,
     "end_time": "2025-03-05T11:56:07.413841",
     "exception": false,
     "start_time": "2025-03-05T11:56:07.399214",
     "status": "completed"
    },
    "tags": []
   },
   "outputs": [],
   "source": [
    "user_ids = [f\"User_{i}\" for i in range(1, 51)]"
   ]
  },
  {
   "cell_type": "markdown",
   "id": "4d13b437",
   "metadata": {
    "papermill": {
     "duration": 0.0076,
     "end_time": "2025-03-05T11:56:07.428972",
     "exception": false,
     "start_time": "2025-03-05T11:56:07.421372",
     "status": "completed"
    },
    "tags": []
   },
   "source": [
    "# Create a list of ratings"
   ]
  },
  {
   "cell_type": "code",
   "execution_count": 6,
   "id": "bd580a8c",
   "metadata": {
    "execution": {
     "iopub.execute_input": "2025-03-05T11:56:07.444881Z",
     "iopub.status.busy": "2025-03-05T11:56:07.444485Z",
     "iopub.status.idle": "2025-03-05T11:56:07.451320Z",
     "shell.execute_reply": "2025-03-05T11:56:07.450351Z"
    },
    "papermill": {
     "duration": 0.016688,
     "end_time": "2025-03-05T11:56:07.452916",
     "exception": false,
     "start_time": "2025-03-05T11:56:07.436228",
     "status": "completed"
    },
    "tags": []
   },
   "outputs": [],
   "source": [
    "ratings_data = []\n",
    "for user_id in user_ids:\n",
    "    for movie in movies_data:\n",
    "        if np.random.rand() < 0.6:  # Randomly assign ratings to simulate sparsity\n",
    "            rating = np.random.randint(1, 6)\n",
    "            ratings_data.append([user_id, movie[\"movieId\"], rating])"
   ]
  },
  {
   "cell_type": "markdown",
   "id": "8861d4f2",
   "metadata": {
    "papermill": {
     "duration": 0.00711,
     "end_time": "2025-03-05T11:56:07.467931",
     "exception": false,
     "start_time": "2025-03-05T11:56:07.460821",
     "status": "completed"
    },
    "tags": []
   },
   "source": [
    "# Convert the list of ratings into a DataFrame"
   ]
  },
  {
   "cell_type": "code",
   "execution_count": 7,
   "id": "b8b450b6",
   "metadata": {
    "execution": {
     "iopub.execute_input": "2025-03-05T11:56:07.483958Z",
     "iopub.status.busy": "2025-03-05T11:56:07.483572Z",
     "iopub.status.idle": "2025-03-05T11:56:07.489043Z",
     "shell.execute_reply": "2025-03-05T11:56:07.488125Z"
    },
    "papermill": {
     "duration": 0.015157,
     "end_time": "2025-03-05T11:56:07.490525",
     "exception": false,
     "start_time": "2025-03-05T11:56:07.475368",
     "status": "completed"
    },
    "tags": []
   },
   "outputs": [],
   "source": [
    "ratings = pd.DataFrame(ratings_data, columns=[\"userId\", \"movieId\", \"rating\"])"
   ]
  },
  {
   "cell_type": "code",
   "execution_count": 8,
   "id": "d218e9df",
   "metadata": {
    "execution": {
     "iopub.execute_input": "2025-03-05T11:56:07.506057Z",
     "iopub.status.busy": "2025-03-05T11:56:07.505701Z",
     "iopub.status.idle": "2025-03-05T11:56:07.524798Z",
     "shell.execute_reply": "2025-03-05T11:56:07.523653Z"
    },
    "papermill": {
     "duration": 0.029113,
     "end_time": "2025-03-05T11:56:07.526879",
     "exception": false,
     "start_time": "2025-03-05T11:56:07.497766",
     "status": "completed"
    },
    "tags": []
   },
   "outputs": [
    {
     "name": "stdout",
     "output_type": "stream",
     "text": [
      "Sample Movie Data:\n",
      "   movieId                     title            genres\n",
      "0  Movie_1  The Shawshank Redemption             Drama\n",
      "1  Movie_2             The Godfather       Crime|Drama\n",
      "2  Movie_3           The Dark Knight  Action|Adventure\n",
      "3  Movie_4              Pulp Fiction       Crime|Drama\n",
      "4  Movie_5              Forrest Gump     Drama|Romance\n",
      "\n",
      "Sample Ratings Data:\n",
      "   userId  movieId  rating\n",
      "0  User_1  Movie_1       5\n",
      "1  User_1  Movie_2       5\n",
      "2  User_1  Movie_3       2\n",
      "3  User_1  Movie_4       3\n",
      "4  User_1  Movie_5       5\n"
     ]
    }
   ],
   "source": [
    "# Display sample data\n",
    "print(\"Sample Movie Data:\")\n",
    "print(movies.head())\n",
    "print(\"\\nSample Ratings Data:\")\n",
    "print(ratings.head())"
   ]
  },
  {
   "cell_type": "code",
   "execution_count": 9,
   "id": "a441ea86",
   "metadata": {
    "execution": {
     "iopub.execute_input": "2025-03-05T11:56:07.543886Z",
     "iopub.status.busy": "2025-03-05T11:56:07.543548Z",
     "iopub.status.idle": "2025-03-05T11:56:07.559866Z",
     "shell.execute_reply": "2025-03-05T11:56:07.558357Z"
    },
    "papermill": {
     "duration": 0.032663,
     "end_time": "2025-03-05T11:56:07.567564",
     "exception": false,
     "start_time": "2025-03-05T11:56:07.534901",
     "status": "completed"
    },
    "tags": []
   },
   "outputs": [],
   "source": [
    "# Preprocess ratings data\n",
    "reader = Reader(rating_scale=(1, 5))\n",
    "data = Dataset.load_from_df(ratings[['userId', 'movieId', 'rating']], reader)\n",
    "\n",
    "# Split data into train and test sets\n",
    "trainset, testset = train_test_split(data, test_size=0.2, random_state=42)"
   ]
  },
  {
   "cell_type": "code",
   "execution_count": 10,
   "id": "8538901c",
   "metadata": {
    "execution": {
     "iopub.execute_input": "2025-03-05T11:56:07.586174Z",
     "iopub.status.busy": "2025-03-05T11:56:07.585743Z",
     "iopub.status.idle": "2025-03-05T11:56:07.601543Z",
     "shell.execute_reply": "2025-03-05T11:56:07.600304Z"
    },
    "papermill": {
     "duration": 0.02609,
     "end_time": "2025-03-05T11:56:07.603393",
     "exception": false,
     "start_time": "2025-03-05T11:56:07.577303",
     "status": "completed"
    },
    "tags": []
   },
   "outputs": [
    {
     "name": "stdout",
     "output_type": "stream",
     "text": [
      "RMSE: 1.4093\n",
      "MAE:  1.2271\n",
      "\n",
      "Collaborative Filtering RMSE: 1.4092911080612185\n",
      "Collaborative Filtering MAE: 1.22711193252963\n"
     ]
    }
   ],
   "source": [
    "\n",
    "# Train SVD model\n",
    "svd = SVD()\n",
    "svd.fit(trainset)\n",
    "\n",
    "# Evaluate the model\n",
    "predictions = svd.test(testset)\n",
    "rmse = accuracy.rmse(predictions)\n",
    "mae = accuracy.mae(predictions)\n",
    "print(f\"\\nCollaborative Filtering RMSE: {rmse}\")\n",
    "print(f\"Collaborative Filtering MAE: {mae}\")"
   ]
  },
  {
   "cell_type": "markdown",
   "id": "c9887eee",
   "metadata": {
    "papermill": {
     "duration": 0.00712,
     "end_time": "2025-03-05T11:56:07.618433",
     "exception": false,
     "start_time": "2025-03-05T11:56:07.611313",
     "status": "completed"
    },
    "tags": []
   },
   "source": [
    "# Function to recommend movies based on collaborative filtering"
   ]
  },
  {
   "cell_type": "code",
   "execution_count": 11,
   "id": "448417d1",
   "metadata": {
    "execution": {
     "iopub.execute_input": "2025-03-05T11:56:07.635118Z",
     "iopub.status.busy": "2025-03-05T11:56:07.634717Z",
     "iopub.status.idle": "2025-03-05T11:56:07.641477Z",
     "shell.execute_reply": "2025-03-05T11:56:07.640344Z"
    },
    "papermill": {
     "duration": 0.016889,
     "end_time": "2025-03-05T11:56:07.643253",
     "exception": false,
     "start_time": "2025-03-05T11:56:07.626364",
     "status": "completed"
    },
    "tags": []
   },
   "outputs": [],
   "source": [
    "def get_collaborative_recommendations(user_id, n_recommendations=10):\n",
    "    # Get list of all movieIds\n",
    "    all_movie_ids = movies['movieId'].unique()\n",
    "\n",
    "    # Predict ratings for all movies not rated by the user\n",
    "    user_movies = ratings[ratings['userId'] == user_id]['movieId']\n",
    "    unrated_movies = [movie_id for movie_id in all_movie_ids if movie_id not in user_movies]\n",
    "\n",
    "    predictions = [(movie_id, svd.predict(user_id, movie_id).est) for movie_id in unrated_movies]\n",
    "\n",
    "    # Sort predictions by estimated rating\n",
    "    predictions.sort(key=lambda x: x[1], reverse=True)\n",
    "\n",
    "    # Get top N recommendations\n",
    "    top_recommendations = predictions[:n_recommendations]\n",
    "\n",
    "    # Map movieIds to movie titles\n",
    "    recommended_movies = []\n",
    "    for movie_id, rating in top_recommendations:\n",
    "        title = movies[movies['movieId'] == movie_id]['title'].iloc[0]\n",
    "        recommended_movies.append((title, rating))\n",
    "\n",
    "    return recommended_movies"
   ]
  },
  {
   "cell_type": "code",
   "execution_count": 12,
   "id": "9e25e8bc",
   "metadata": {
    "execution": {
     "iopub.execute_input": "2025-03-05T11:56:07.659990Z",
     "iopub.status.busy": "2025-03-05T11:56:07.659663Z",
     "iopub.status.idle": "2025-03-05T11:56:07.687584Z",
     "shell.execute_reply": "2025-03-05T11:56:07.686577Z"
    },
    "papermill": {
     "duration": 0.038215,
     "end_time": "2025-03-05T11:56:07.689470",
     "exception": false,
     "start_time": "2025-03-05T11:56:07.651255",
     "status": "completed"
    },
    "tags": []
   },
   "outputs": [],
   "source": [
    "# Preprocess movies data\n",
    "movies['genres'] = movies['genres'].str.replace('|', ' ')\n",
    "tfidf = TfidfVectorizer(stop_words='english')\n",
    "tfidf_matrix = tfidf.fit_transform(movies['genres'])"
   ]
  },
  {
   "cell_type": "markdown",
   "id": "2372a07d",
   "metadata": {
    "papermill": {
     "duration": 0.007304,
     "end_time": "2025-03-05T11:56:07.704284",
     "exception": false,
     "start_time": "2025-03-05T11:56:07.696980",
     "status": "completed"
    },
    "tags": []
   },
   "source": [
    "# Compute cosine similarity matrix"
   ]
  },
  {
   "cell_type": "code",
   "execution_count": 13,
   "id": "8aa7a72e",
   "metadata": {
    "execution": {
     "iopub.execute_input": "2025-03-05T11:56:07.720670Z",
     "iopub.status.busy": "2025-03-05T11:56:07.720295Z",
     "iopub.status.idle": "2025-03-05T11:56:07.725553Z",
     "shell.execute_reply": "2025-03-05T11:56:07.724514Z"
    },
    "papermill": {
     "duration": 0.015196,
     "end_time": "2025-03-05T11:56:07.727154",
     "exception": false,
     "start_time": "2025-03-05T11:56:07.711958",
     "status": "completed"
    },
    "tags": []
   },
   "outputs": [],
   "source": [
    "cosine_sim = cosine_similarity(tfidf_matrix, tfidf_matrix)"
   ]
  },
  {
   "cell_type": "markdown",
   "id": "eb813218",
   "metadata": {
    "papermill": {
     "duration": 0.007284,
     "end_time": "2025-03-05T11:56:07.742559",
     "exception": false,
     "start_time": "2025-03-05T11:56:07.735275",
     "status": "completed"
    },
    "tags": []
   },
   "source": [
    "# Function to recommend movies based on content-based filtering"
   ]
  },
  {
   "cell_type": "code",
   "execution_count": 14,
   "id": "5d42893b",
   "metadata": {
    "execution": {
     "iopub.execute_input": "2025-03-05T11:56:07.758779Z",
     "iopub.status.busy": "2025-03-05T11:56:07.758398Z",
     "iopub.status.idle": "2025-03-05T11:56:07.764333Z",
     "shell.execute_reply": "2025-03-05T11:56:07.763243Z"
    },
    "papermill": {
     "duration": 0.016119,
     "end_time": "2025-03-05T11:56:07.766055",
     "exception": false,
     "start_time": "2025-03-05T11:56:07.749936",
     "status": "completed"
    },
    "tags": []
   },
   "outputs": [],
   "source": [
    "def get_content_based_recommendations(movie_title, n_recommendations=10):\n",
    "    # Get index of the movie\n",
    "    idx = movies[movies['title'] == movie_title].index[0]\n",
    "\n",
    "    # Get similarity scores for the movie\n",
    "    sim_scores = list(enumerate(cosine_sim[idx]))\n",
    "\n",
    "    # Sort movies by similarity score\n",
    "    sim_scores.sort(key=lambda x: x[1], reverse=True)\n",
    "\n",
    "    # Get top N similar movies\n",
    "    top_indices = [i[0] for i in sim_scores[1:n_recommendations+1]]\n",
    "\n",
    "    # Get movie titles\n",
    "    recommended_movies = movies.iloc[top_indices]['title'].tolist()\n",
    "\n",
    "    return recommended_movies"
   ]
  },
  {
   "cell_type": "markdown",
   "id": "4f458976",
   "metadata": {
    "papermill": {
     "duration": 0.007647,
     "end_time": "2025-03-05T11:56:07.781377",
     "exception": false,
     "start_time": "2025-03-05T11:56:07.773730",
     "status": "completed"
    },
    "tags": []
   },
   "source": [
    "# Combine collaborative and content-based filtering"
   ]
  },
  {
   "cell_type": "code",
   "execution_count": 15,
   "id": "a04da745",
   "metadata": {
    "execution": {
     "iopub.execute_input": "2025-03-05T11:56:07.797697Z",
     "iopub.status.busy": "2025-03-05T11:56:07.797340Z",
     "iopub.status.idle": "2025-03-05T11:56:07.802151Z",
     "shell.execute_reply": "2025-03-05T11:56:07.801275Z"
    },
    "papermill": {
     "duration": 0.015129,
     "end_time": "2025-03-05T11:56:07.803898",
     "exception": false,
     "start_time": "2025-03-05T11:56:07.788769",
     "status": "completed"
    },
    "tags": []
   },
   "outputs": [],
   "source": [
    "def get_hybrid_recommendations(user_id, movie_title, n_recommendations=10):\n",
    "    # Get collaborative filtering recommendations\n",
    "    collab_recs = get_collaborative_recommendations(user_id, n_recommendations=20)\n",
    "\n",
    "    # Get content-based filtering recommendations\n",
    "    content_recs = get_content_based_recommendations(movie_title, n_recommendations=20)\n",
    "\n",
    "    # Combine recommendations\n",
    "    combined_recs = list(set([rec[0] for rec in collab_recs] + content_recs))\n",
    "\n",
    "    # Limit to top N recommendations\n",
    "    return combined_recs[:n_recommendations]"
   ]
  },
  {
   "cell_type": "markdown",
   "id": "4ffa92c1",
   "metadata": {
    "papermill": {
     "duration": 0.0072,
     "end_time": "2025-03-05T11:56:07.818892",
     "exception": false,
     "start_time": "2025-03-05T11:56:07.811692",
     "status": "completed"
    },
    "tags": []
   },
   "source": [
    "# Feature 1: Cold Start Problem Handling"
   ]
  },
  {
   "cell_type": "code",
   "execution_count": 16,
   "id": "bca6d045",
   "metadata": {
    "execution": {
     "iopub.execute_input": "2025-03-05T11:56:07.835159Z",
     "iopub.status.busy": "2025-03-05T11:56:07.834770Z",
     "iopub.status.idle": "2025-03-05T11:56:07.840326Z",
     "shell.execute_reply": "2025-03-05T11:56:07.839286Z"
    },
    "papermill": {
     "duration": 0.015801,
     "end_time": "2025-03-05T11:56:07.842142",
     "exception": false,
     "start_time": "2025-03-05T11:56:07.826341",
     "status": "completed"
    },
    "tags": []
   },
   "outputs": [],
   "source": [
    "def handle_cold_start(user_id, n_recommendations=10):\n",
    "    # Check if the user has rated any movies\n",
    "    if user_id not in ratings['userId'].unique():\n",
    "        # Recommend popular movies\n",
    "        popular_movies = ratings.groupby('movieId')['rating'].count().sort_values(ascending=False).head(n_recommendations)\n",
    "        recommended_movies = movies[movies['movieId'].isin(popular_movies.index)]['title'].tolist()\n",
    "        return recommended_movies\n",
    "    else:\n",
    "        # Use collaborative filtering for existing users\n",
    "        return [rec[0] for rec in get_collaborative_recommendations(user_id, n_recommendations)]"
   ]
  },
  {
   "cell_type": "markdown",
   "id": "b5fbf50a",
   "metadata": {
    "papermill": {
     "duration": 0.006906,
     "end_time": "2025-03-05T11:56:07.856446",
     "exception": false,
     "start_time": "2025-03-05T11:56:07.849540",
     "status": "completed"
    },
    "tags": []
   },
   "source": [
    "# Feature 2: Genre-Based Recommendations"
   ]
  },
  {
   "cell_type": "code",
   "execution_count": 17,
   "id": "d867270f",
   "metadata": {
    "execution": {
     "iopub.execute_input": "2025-03-05T11:56:07.872075Z",
     "iopub.status.busy": "2025-03-05T11:56:07.871713Z",
     "iopub.status.idle": "2025-03-05T11:56:07.876870Z",
     "shell.execute_reply": "2025-03-05T11:56:07.875754Z"
    },
    "papermill": {
     "duration": 0.015237,
     "end_time": "2025-03-05T11:56:07.878692",
     "exception": false,
     "start_time": "2025-03-05T11:56:07.863455",
     "status": "completed"
    },
    "tags": []
   },
   "outputs": [],
   "source": [
    "def get_genre_based_recommendations(genre, n_recommendations=10):\n",
    "    genre_movies = movies[movies['genres'].str.contains(genre)]\n",
    "    genre_movies = genre_movies.sample(frac=1).reset_index(drop=True)  # Shuffle\n",
    "    return genre_movies['title'].head(n_recommendations).tolist()"
   ]
  },
  {
   "cell_type": "markdown",
   "id": "c262376d",
   "metadata": {
    "papermill": {
     "duration": 0.007445,
     "end_time": "2025-03-05T11:56:07.893768",
     "exception": false,
     "start_time": "2025-03-05T11:56:07.886323",
     "status": "completed"
    },
    "tags": []
   },
   "source": [
    "# Feature 3: User Similarity Analysis"
   ]
  },
  {
   "cell_type": "code",
   "execution_count": 18,
   "id": "3bdfb833",
   "metadata": {
    "execution": {
     "iopub.execute_input": "2025-03-05T11:56:07.909915Z",
     "iopub.status.busy": "2025-03-05T11:56:07.909584Z",
     "iopub.status.idle": "2025-03-05T11:56:07.914530Z",
     "shell.execute_reply": "2025-03-05T11:56:07.913611Z"
    },
    "papermill": {
     "duration": 0.014883,
     "end_time": "2025-03-05T11:56:07.916050",
     "exception": false,
     "start_time": "2025-03-05T11:56:07.901167",
     "status": "completed"
    },
    "tags": []
   },
   "outputs": [],
   "source": [
    "def find_similar_users(user_id, n_users=5):\n",
    "    user_ratings = ratings.pivot(index='userId', columns='movieId', values='rating').fillna(0)\n",
    "    user_similarity = cosine_similarity(user_ratings)\n",
    "    user_similarity_df = pd.DataFrame(user_similarity, index=user_ratings.index, columns=user_ratings.index)\n",
    "\n",
    "    similar_users = user_similarity_df[user_id].sort_values(ascending=False).index[1:n_users+1]\n",
    "    return similar_users.tolist()"
   ]
  },
  {
   "cell_type": "markdown",
   "id": "024f3e7a",
   "metadata": {
    "papermill": {
     "duration": 0.007161,
     "end_time": "2025-03-05T11:56:07.930706",
     "exception": false,
     "start_time": "2025-03-05T11:56:07.923545",
     "status": "completed"
    },
    "tags": []
   },
   "source": [
    "# Feature 4: Visualization of Recommendations"
   ]
  },
  {
   "cell_type": "code",
   "execution_count": 19,
   "id": "9dd908a0",
   "metadata": {
    "execution": {
     "iopub.execute_input": "2025-03-05T11:56:07.946937Z",
     "iopub.status.busy": "2025-03-05T11:56:07.946596Z",
     "iopub.status.idle": "2025-03-05T11:56:07.951502Z",
     "shell.execute_reply": "2025-03-05T11:56:07.950392Z"
    },
    "papermill": {
     "duration": 0.01481,
     "end_time": "2025-03-05T11:56:07.952933",
     "exception": false,
     "start_time": "2025-03-05T11:56:07.938123",
     "status": "completed"
    },
    "tags": []
   },
   "outputs": [],
   "source": [
    "def visualize_recommendations(recommendations):\n",
    "    titles, ratings = zip(*recommendations)\n",
    "    plt.figure(figsize=(10, 6))\n",
    "    plt.barh(titles, ratings, color='skyblue')\n",
    "    plt.xlabel('Predicted Rating')\n",
    "    plt.title('Top Recommendations')\n",
    "    plt.gca().invert_yaxis()\n",
    "    plt.show()"
   ]
  },
  {
   "cell_type": "markdown",
   "id": "420075f1",
   "metadata": {
    "papermill": {
     "duration": 0.00718,
     "end_time": "2025-03-05T11:56:07.967681",
     "exception": false,
     "start_time": "2025-03-05T11:56:07.960501",
     "status": "completed"
    },
    "tags": []
   },
   "source": [
    " Feature 5: Save Recommendations to CSV"
   ]
  },
  {
   "cell_type": "code",
   "execution_count": 20,
   "id": "c9912ec0",
   "metadata": {
    "execution": {
     "iopub.execute_input": "2025-03-05T11:56:07.983702Z",
     "iopub.status.busy": "2025-03-05T11:56:07.983347Z",
     "iopub.status.idle": "2025-03-05T11:56:07.987765Z",
     "shell.execute_reply": "2025-03-05T11:56:07.986906Z"
    },
    "papermill": {
     "duration": 0.014387,
     "end_time": "2025-03-05T11:56:07.989455",
     "exception": false,
     "start_time": "2025-03-05T11:56:07.975068",
     "status": "completed"
    },
    "tags": []
   },
   "outputs": [],
   "source": [
    "def save_recommendations_to_csv(recommendations, filename='recommendations.csv'):\n",
    "    df = pd.DataFrame(recommendations, columns=['Title', 'Predicted Rating'])\n",
    "    df.to_csv(filename, index=False)\n",
    "    print(f\"\\nRecommendations saved to {filename}.\")"
   ]
  },
  {
   "cell_type": "markdown",
   "id": "986e746d",
   "metadata": {
    "papermill": {
     "duration": 0.00718,
     "end_time": "2025-03-05T11:56:08.004055",
     "exception": false,
     "start_time": "2025-03-05T11:56:07.996875",
     "status": "completed"
    },
    "tags": []
   },
   "source": [
    "# Feature 6: Batch Recommendations for Multiple Users"
   ]
  },
  {
   "cell_type": "code",
   "execution_count": 21,
   "id": "bcdbdb8a",
   "metadata": {
    "execution": {
     "iopub.execute_input": "2025-03-05T11:56:08.020237Z",
     "iopub.status.busy": "2025-03-05T11:56:08.019849Z",
     "iopub.status.idle": "2025-03-05T11:56:08.024539Z",
     "shell.execute_reply": "2025-03-05T11:56:08.023702Z"
    },
    "papermill": {
     "duration": 0.014738,
     "end_time": "2025-03-05T11:56:08.026151",
     "exception": false,
     "start_time": "2025-03-05T11:56:08.011413",
     "status": "completed"
    },
    "tags": []
   },
   "outputs": [],
   "source": [
    "def batch_recommendations(user_ids, n_recommendations=10):\n",
    "    results = {}\n",
    "    for user_id in user_ids:\n",
    "        recommendations = get_collaborative_recommendations(user_id, n_recommendations)\n",
    "        results[user_id] = recommendations\n",
    "    return results"
   ]
  },
  {
   "cell_type": "markdown",
   "id": "5370c0d6",
   "metadata": {
    "papermill": {
     "duration": 0.00715,
     "end_time": "2025-03-05T11:56:08.040965",
     "exception": false,
     "start_time": "2025-03-05T11:56:08.033815",
     "status": "completed"
    },
    "tags": []
   },
   "source": [
    "# Feature 7: Advanced Evaluation Metrics"
   ]
  },
  {
   "cell_type": "code",
   "execution_count": 22,
   "id": "b6682437",
   "metadata": {
    "execution": {
     "iopub.execute_input": "2025-03-05T11:56:08.056915Z",
     "iopub.status.busy": "2025-03-05T11:56:08.056572Z",
     "iopub.status.idle": "2025-03-05T11:56:08.066485Z",
     "shell.execute_reply": "2025-03-05T11:56:08.065464Z"
    },
    "papermill": {
     "duration": 0.019857,
     "end_time": "2025-03-05T11:56:08.068105",
     "exception": false,
     "start_time": "2025-03-05T11:56:08.048248",
     "status": "completed"
    },
    "tags": []
   },
   "outputs": [],
   "source": [
    "def evaluate_model(model, testset):\n",
    "    predictions = model.test(testset)\n",
    "    rmse = accuracy.rmse(predictions)\n",
    "    mae = accuracy.mae(predictions)\n",
    "    precision_at_k = calculate_precision_at_k(predictions, k=10)\n",
    "    recall_at_k = calculate_recall_at_k(predictions, k=10)\n",
    "    return {\n",
    "        'RMSE': rmse,\n",
    "        'MAE': mae,\n",
    "        'Precision@K': precision_at_k,\n",
    "        'Recall@K': recall_at_k\n",
    "    }\n",
    "\n",
    "def calculate_precision_at_k(predictions, k=10, threshold=3.5):\n",
    "    user_est_true = {}\n",
    "    for uid, _, true_r, est, _ in predictions:\n",
    "        if uid not in user_est_true:\n",
    "            user_est_true[uid] = []\n",
    "        user_est_true[uid].append((est, true_r))\n",
    "\n",
    "    precisions = []\n",
    "    for uid, user_ratings in user_est_true.items():\n",
    "        user_ratings.sort(key=lambda x: x[0], reverse=True)\n",
    "        top_k = user_ratings[:k]\n",
    "        relevant = sum((true_r >= threshold) for (_, true_r) in top_k)\n",
    "        precisions.append(relevant / k)\n",
    "\n",
    "    return np.mean(precisions)\n",
    "\n",
    "def calculate_recall_at_k(predictions, k=10, threshold=3.5):\n",
    "    user_est_true = {}\n",
    "    for uid, _, true_r, est, _ in predictions:\n",
    "        if uid not in user_est_true:\n",
    "            user_est_true[uid] = []\n",
    "        user_est_true[uid].append((est, true_r))\n",
    "\n",
    "    recalls = []\n",
    "    for uid, user_ratings in user_est_true.items():\n",
    "        user_ratings.sort(key=lambda x: x[0], reverse=True)\n",
    "        top_k = user_ratings[:k]\n",
    "        relevant = sum((true_r >= threshold) for (_, true_r) in user_ratings)\n",
    "        if relevant > 0:\n",
    "            recall = sum((true_r >= threshold) for (_, true_r) in top_k) / relevant\n",
    "            recalls.append(recall)\n",
    "\n",
    "    return np.mean(recalls)"
   ]
  },
  {
   "cell_type": "markdown",
   "id": "81ede072",
   "metadata": {
    "papermill": {
     "duration": 0.007043,
     "end_time": "2025-03-05T11:56:08.082693",
     "exception": false,
     "start_time": "2025-03-05T11:56:08.075650",
     "status": "completed"
    },
    "tags": []
   },
   "source": [
    "\n",
    "# Additional Helper Functions"
   ]
  },
  {
   "cell_type": "code",
   "execution_count": 23,
   "id": "2820fada",
   "metadata": {
    "execution": {
     "iopub.execute_input": "2025-03-05T11:56:08.099134Z",
     "iopub.status.busy": "2025-03-05T11:56:08.098758Z",
     "iopub.status.idle": "2025-03-05T11:56:08.105822Z",
     "shell.execute_reply": "2025-03-05T11:56:08.104891Z"
    },
    "papermill": {
     "duration": 0.017739,
     "end_time": "2025-03-05T11:56:08.107660",
     "exception": false,
     "start_time": "2025-03-05T11:56:08.089921",
     "status": "completed"
    },
    "tags": []
   },
   "outputs": [],
   "source": [
    "def get_movie_details(movie_title):\n",
    "    \"\"\"Get details of a specific movie.\"\"\"\n",
    "    movie = movies[movies['title'] == movie_title]\n",
    "    if not movie.empty:\n",
    "        return movie.to_dict(orient='records')[0]\n",
    "    return None\n",
    "\n",
    "def get_user_profile(user_id):\n",
    "    \"\"\"Get profile of a specific user.\"\"\"\n",
    "    user_ratings = ratings[ratings['userId'] == user_id]\n",
    "    if not user_ratings.empty:\n",
    "        return user_ratings.merge(movies, on='movieId').to_dict(orient='records')\n",
    "    return None\n",
    "\n",
    "def get_top_rated_movies_by_user(user_id, n_movies=5):\n",
    "    \"\"\"Get top-rated movies by a specific user.\"\"\"\n",
    "    user_ratings = ratings[ratings['userId'] == user_id]\n",
    "    top_movies = user_ratings.sort_values(by='rating', ascending=False).head(n_movies)\n",
    "    return top_movies.merge(movies, on='movieId')['title'].tolist()\n",
    "\n",
    "def get_least_rated_movies_by_user(user_id, n_movies=5):\n",
    "    \"\"\"Get least-rated movies by a specific user.\"\"\"\n",
    "    user_ratings = ratings[ratings['userId'] == user_id]\n",
    "    least_movies = user_ratings.sort_values(by='rating', ascending=True).head(n_movies)\n",
    "    return least_movies.merge(movies, on='movieId')['title'].tolist()\n"
   ]
  },
  {
   "cell_type": "markdown",
   "id": "396eb690",
   "metadata": {
    "papermill": {
     "duration": 0.007244,
     "end_time": "2025-03-05T11:56:08.122715",
     "exception": false,
     "start_time": "2025-03-05T11:56:08.115471",
     "status": "completed"
    },
    "tags": []
   },
   "source": [
    "# Main function for Bangla Input/Output"
   ]
  },
  {
   "cell_type": "code",
   "execution_count": 24,
   "id": "13b10c17",
   "metadata": {
    "execution": {
     "iopub.execute_input": "2025-03-05T11:56:08.139282Z",
     "iopub.status.busy": "2025-03-05T11:56:08.138882Z",
     "iopub.status.idle": "2025-03-05T11:56:08.151042Z",
     "shell.execute_reply": "2025-03-05T11:56:08.150061Z"
    },
    "papermill": {
     "duration": 0.022552,
     "end_time": "2025-03-05T11:56:08.152773",
     "exception": false,
     "start_time": "2025-03-05T11:56:08.130221",
     "status": "completed"
    },
    "tags": []
   },
   "outputs": [],
   "source": [
    "def main():\n",
    "    print(\"\\nWelcome! This system will provide movie recommendations.\")\n",
    "    print(\"Please choose from the following options:\")\n",
    "    print(\"1. Get recommendations using Collaborative Filtering\")\n",
    "    print(\"2. Get recommendations using Content-Based Filtering\")\n",
    "    print(\"3. Get recommendations using Hybrid Filtering\")\n",
    "    print(\"4. Get recommendations based on Genre\")\n",
    "    print(\"5. Handle Cold Start Problem\")\n",
    "    print(\"6. Analyze User Similarity\")\n",
    "    print(\"7. Get Batch Recommendations\")\n",
    "    print(\"8. Evaluate Model\")\n",
    "    choice = input(\"Enter your choice (1/2/3/4/5/6/7/8): \")\n",
    "\n",
    "    if choice == \"1\":\n",
    "        user_id = input(\"Enter your User ID (e.g., User_1): \")\n",
    "        n_recommendations = int(input(\"How many recommendations do you want? (Default 10): \") or 10)\n",
    "        recommendations = get_collaborative_recommendations(user_id, n_recommendations)\n",
    "        print(\"\\nYour Top Recommendations (Collaborative Filtering):\")\n",
    "        for title, rating in recommendations:\n",
    "            print(f\"{title} (Predicted Rating: {rating:.2f})\")\n",
    "        visualize_recommendations(recommendations)\n",
    "\n",
    "    elif choice == \"2\":\n",
    "        movie_title = input(\"Enter your favorite movie title: \")\n",
    "        n_recommendations = int(input(\"How many recommendations do you want? (Default 10): \") or 10)\n",
    "        recommendations = get_content_based_recommendations(movie_title, n_recommendations)\n",
    "        print(\"\\nYour Top Recommendations (Content-Based Filtering):\")\n",
    "        for title in recommendations:\n",
    "            print(title)\n",
    "\n",
    "    elif choice == \"3\":\n",
    "        user_id = input(\"Enter your User ID (e.g., User_1): \")\n",
    "        movie_title = input(\"Enter your favorite movie title: \")\n",
    "        n_recommendations = int(input(\"How many recommendations do you want? (Default 10): \") or 10)\n",
    "        recommendations = get_hybrid_recommendations(user_id, movie_title, n_recommendations)\n",
    "        print(\"\\nYour Top Recommendations (Hybrid Filtering):\")\n",
    "        for title in recommendations:\n",
    "            print(title)\n",
    "\n",
    "    elif choice == \"4\":\n",
    "        genre = input(\"Enter your favorite genre (e.g., Action): \")\n",
    "        n_recommendations = int(input(\"How many recommendations do you want? (Default 10): \") or 10)\n",
    "        recommendations = get_genre_based_recommendations(genre, n_recommendations)\n",
    "        print(\"\\nYour Top Recommendations (Genre-Based):\")\n",
    "        for title in recommendations:\n",
    "            print(title)\n",
    "\n",
    "    elif choice == \"5\":\n",
    "        user_id = input(\"Enter your User ID (e.g., User_1): \")\n",
    "        n_recommendations = int(input(\"How many recommendations do you want? (Default 10): \") or 10)\n",
    "        recommendations = handle_cold_start(user_id, n_recommendations)\n",
    "        print(\"\\nYour Top Recommendations (Cold Start Solution):\")\n",
    "        for title in recommendations:\n",
    "            print(title)\n",
    "\n",
    "    elif choice == \"6\":\n",
    "        user_id = input(\"Enter your User ID (e.g., User_1): \")\n",
    "        n_users = int(input(\"How many similar users do you want? (Default 5): \") or 5)\n",
    "        similar_users = find_similar_users(user_id, n_users)\n",
    "        print(\"\\nYour Similar Users:\")\n",
    "        for user in similar_users:\n",
    "            print(user)\n",
    "\n",
    "    elif choice == \"7\":\n",
    "        user_ids = input(\"Enter User IDs (comma-separated, e.g., User_1,User_2): \").split(\",\")\n",
    "        n_recommendations = int(input(\"How many recommendations do you want? (Default 10): \") or 10)\n",
    "        batch_results = batch_recommendations(user_ids, n_recommendations)\n",
    "        print(\"\\nBatch Recommendations:\")\n",
    "        for user_id, recs in batch_results.items():\n",
    "            print(f\"\\nUser {user_id}:\")\n",
    "            for title, rating in recs:\n",
    "                print(f\"{title} (Predicted Rating: {rating:.2f})\")\n",
    "\n",
    "    elif choice == \"8\":\n",
    "        evaluation_results = evaluate_model(svd, testset)\n",
    "        print(\"\\nModel Evaluation Results:\")\n",
    "        for metric, value in evaluation_results.items():\n",
    "            print(f\"{metric}: {value:.4f}\")\n",
    "\n",
    "    else:\n",
    "        print(\"Invalid option! Please try again.\")\n"
   ]
  },
  {
   "cell_type": "code",
   "execution_count": 25,
   "id": "12ea3305",
   "metadata": {
    "execution": {
     "iopub.execute_input": "2025-03-05T11:56:08.169499Z",
     "iopub.status.busy": "2025-03-05T11:56:08.169141Z",
     "iopub.status.idle": "2025-03-05T11:56:08.330821Z",
     "shell.execute_reply": "2025-03-05T11:56:08.329370Z"
    },
    "papermill": {
     "duration": 0.171744,
     "end_time": "2025-03-05T11:56:08.332302",
     "exception": true,
     "start_time": "2025-03-05T11:56:08.160558",
     "status": "failed"
    },
    "tags": []
   },
   "outputs": [
    {
     "name": "stdout",
     "output_type": "stream",
     "text": [
      "\n",
      "Welcome! This system will provide movie recommendations.\n",
      "Please choose from the following options:\n",
      "1. Get recommendations using Collaborative Filtering\n",
      "2. Get recommendations using Content-Based Filtering\n",
      "3. Get recommendations using Hybrid Filtering\n",
      "4. Get recommendations based on Genre\n",
      "5. Handle Cold Start Problem\n",
      "6. Analyze User Similarity\n",
      "7. Get Batch Recommendations\n",
      "8. Evaluate Model\n"
     ]
    },
    {
     "ename": "StdinNotImplementedError",
     "evalue": "raw_input was called, but this frontend does not support input requests.",
     "output_type": "error",
     "traceback": [
      "\u001b[0;31m---------------------------------------------------------------------------\u001b[0m",
      "\u001b[0;31mStdinNotImplementedError\u001b[0m                  Traceback (most recent call last)",
      "\u001b[0;32m<ipython-input-25-972361fa1b80>\u001b[0m in \u001b[0;36m<cell line: 1>\u001b[0;34m()\u001b[0m\n\u001b[1;32m      1\u001b[0m \u001b[0;32mif\u001b[0m \u001b[0m__name__\u001b[0m \u001b[0;34m==\u001b[0m \u001b[0;34m\"__main__\"\u001b[0m\u001b[0;34m:\u001b[0m\u001b[0;34m\u001b[0m\u001b[0;34m\u001b[0m\u001b[0m\n\u001b[0;32m----> 2\u001b[0;31m     \u001b[0mmain\u001b[0m\u001b[0;34m(\u001b[0m\u001b[0;34m)\u001b[0m\u001b[0;34m\u001b[0m\u001b[0;34m\u001b[0m\u001b[0m\n\u001b[0m",
      "\u001b[0;32m<ipython-input-24-4118aa295c39>\u001b[0m in \u001b[0;36mmain\u001b[0;34m()\u001b[0m\n\u001b[1;32m     10\u001b[0m     \u001b[0mprint\u001b[0m\u001b[0;34m(\u001b[0m\u001b[0;34m\"7. Get Batch Recommendations\"\u001b[0m\u001b[0;34m)\u001b[0m\u001b[0;34m\u001b[0m\u001b[0;34m\u001b[0m\u001b[0m\n\u001b[1;32m     11\u001b[0m     \u001b[0mprint\u001b[0m\u001b[0;34m(\u001b[0m\u001b[0;34m\"8. Evaluate Model\"\u001b[0m\u001b[0;34m)\u001b[0m\u001b[0;34m\u001b[0m\u001b[0;34m\u001b[0m\u001b[0m\n\u001b[0;32m---> 12\u001b[0;31m     \u001b[0mchoice\u001b[0m \u001b[0;34m=\u001b[0m \u001b[0minput\u001b[0m\u001b[0;34m(\u001b[0m\u001b[0;34m\"Enter your choice (1/2/3/4/5/6/7/8): \"\u001b[0m\u001b[0;34m)\u001b[0m\u001b[0;34m\u001b[0m\u001b[0;34m\u001b[0m\u001b[0m\n\u001b[0m\u001b[1;32m     13\u001b[0m \u001b[0;34m\u001b[0m\u001b[0m\n\u001b[1;32m     14\u001b[0m     \u001b[0;32mif\u001b[0m \u001b[0mchoice\u001b[0m \u001b[0;34m==\u001b[0m \u001b[0;34m\"1\"\u001b[0m\u001b[0;34m:\u001b[0m\u001b[0;34m\u001b[0m\u001b[0;34m\u001b[0m\u001b[0m\n",
      "\u001b[0;32m/usr/local/lib/python3.10/dist-packages/ipykernel/kernelbase.py\u001b[0m in \u001b[0;36mraw_input\u001b[0;34m(self, prompt)\u001b[0m\n\u001b[1;32m    846\u001b[0m         \"\"\"\n\u001b[1;32m    847\u001b[0m         \u001b[0;32mif\u001b[0m \u001b[0;32mnot\u001b[0m \u001b[0mself\u001b[0m\u001b[0;34m.\u001b[0m\u001b[0m_allow_stdin\u001b[0m\u001b[0;34m:\u001b[0m\u001b[0;34m\u001b[0m\u001b[0;34m\u001b[0m\u001b[0m\n\u001b[0;32m--> 848\u001b[0;31m             raise StdinNotImplementedError(\n\u001b[0m\u001b[1;32m    849\u001b[0m                 \u001b[0;34m\"raw_input was called, but this frontend does not support input requests.\"\u001b[0m\u001b[0;34m\u001b[0m\u001b[0;34m\u001b[0m\u001b[0m\n\u001b[1;32m    850\u001b[0m             )\n",
      "\u001b[0;31mStdinNotImplementedError\u001b[0m: raw_input was called, but this frontend does not support input requests."
     ]
    }
   ],
   "source": [
    "if __name__ == \"__main__\":\n",
    "    main()"
   ]
  }
 ],
 "metadata": {
  "kaggle": {
   "accelerator": "none",
   "dataSources": [],
   "dockerImageVersionId": 30918,
   "isGpuEnabled": false,
   "isInternetEnabled": true,
   "language": "python",
   "sourceType": "notebook"
  },
  "kernelspec": {
   "display_name": "Python 3",
   "language": "python",
   "name": "python3"
  },
  "language_info": {
   "codemirror_mode": {
    "name": "ipython",
    "version": 3
   },
   "file_extension": ".py",
   "mimetype": "text/x-python",
   "name": "python",
   "nbconvert_exporter": "python",
   "pygments_lexer": "ipython3",
   "version": "3.10.12"
  },
  "papermill": {
   "default_parameters": {},
   "duration": 7.2272,
   "end_time": "2025-03-05T11:56:09.060703",
   "environment_variables": {},
   "exception": true,
   "input_path": "__notebook__.ipynb",
   "output_path": "__notebook__.ipynb",
   "parameters": {},
   "start_time": "2025-03-05T11:56:01.833503",
   "version": "2.6.0"
  }
 },
 "nbformat": 4,
 "nbformat_minor": 5
}
